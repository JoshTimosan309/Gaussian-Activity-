{
  "cells": [
    {
      "cell_type": "markdown",
      "metadata": {
        "id": "IYZx1wIH8j1t"
      },
      "source": [
        "# Plate -Gauss Elimination Activity"
      ]
    },
    {
      "cell_type": "code",
      "execution_count": 1,
      "metadata": {
        "id": "GxzGKYwU8j1u"
      },
      "outputs": [],
      "source": [
        "import numpy as np\n",
        "\n",
        "# Set NumPy to display 4 decimal places\n",
        "np.set_printoptions(precision=4, suppress=True)"
      ]
    },
    {
      "cell_type": "markdown",
      "metadata": {
        "id": "tuqgtPOh8j1v"
      },
      "source": [
        "## 1. Naive Gaussian Elimination"
      ]
    },
    {
      "cell_type": "code",
      "execution_count": 2,
      "metadata": {
        "colab": {
          "base_uri": "https://localhost:8080/"
        },
        "id": "J9lol97R8j1v",
        "outputId": "7e19b171-478f-4f7a-ca4b-dad01c267b46"
      },
      "outputs": [
        {
          "output_type": "stream",
          "name": "stdout",
          "text": [
            "Solution using Naive Gaussian Elimination:\n",
            "x = -26.0000\n",
            "y = 9.0000\n",
            "z = 4.0000\n",
            "\n",
            "Verification:\n",
            "Ax = [4. 5. 6.]\n",
            "b  = [4. 5. 6.]\n"
          ]
        }
      ],
      "source": [
        "def naive_gaussian_elimination(A, b):\n",
        "    n = len(A)\n",
        "    Ab = np.column_stack((A, b))\n",
        "\n",
        "    for i in range(n):\n",
        "        for j in range(i+1, n):\n",
        "            factor = Ab[j, i] / Ab[i, i]\n",
        "            Ab[j, :] -= factor * Ab[i, :]\n",
        "\n",
        "    x = np.zeros(n)\n",
        "    for i in range(n-1, -1, -1):\n",
        "        x[i] = (Ab[i, -1] - np.dot(Ab[i, i+1:n], x[i+1:])) / Ab[i, i]\n",
        "\n",
        "    return x\n",
        "\n",
        "A = np.array([[1, 2, 3], [2, 5, 3], [1, 0, 8]], dtype=float)\n",
        "b = np.array([4, 5, 6], dtype=float)\n",
        "\n",
        "solution = naive_gaussian_elimination(A, b)\n",
        "\n",
        "print(\"Solution using Naive Gaussian Elimination:\")\n",
        "print(f\"x = {solution[0]:.4f}\")\n",
        "print(f\"y = {solution[1]:.4f}\")\n",
        "print(f\"z = {solution[2]:.4f}\")\n",
        "\n",
        "print(\"\\nVerification:\")\n",
        "print(f\"Ax = {np.dot(A, solution)}\")\n",
        "print(f\"b  = {b}\")"
      ]
    },
    {
      "cell_type": "markdown",
      "metadata": {
        "id": "jimKq9Yl8j1w"
      },
      "source": [
        "## 2. Naive Gaussian Elimination with 4 Significant Digits (Chopping)"
      ]
    },
    {
      "cell_type": "code",
      "execution_count": 3,
      "metadata": {
        "colab": {
          "base_uri": "https://localhost:8080/"
        },
        "id": "-WwGeOqG8j1w",
        "outputId": "9562683e-f478-430b-ddd0-4fbd0ee0f8ff"
      },
      "outputs": [
        {
          "output_type": "stream",
          "name": "stdout",
          "text": [
            "Solution using Naive Gaussian Elimination with 4 Significant Digits (Chopping):\n",
            "x = -26.0000\n",
            "y = 9.0000\n",
            "z = 4.0000\n",
            "\n",
            "Verification:\n",
            "Ax = [4. 5. 6.]\n",
            "b  = [4. 5. 6.]\n"
          ]
        }
      ],
      "source": [
        "def chop(x, n=4):\n",
        "    return np.floor(x * 10**n) / 10**n\n",
        "\n",
        "def naive_gaussian_elimination_chopped(A, b):\n",
        "    n = len(A)\n",
        "    Ab = np.column_stack((A, b))\n",
        "\n",
        "    for i in range(n):\n",
        "        for j in range(i+1, n):\n",
        "            factor = chop(Ab[j, i] / Ab[i, i])\n",
        "            Ab[j, :] = chop(Ab[j, :] - factor * Ab[i, :])\n",
        "\n",
        "    x = np.zeros(n)\n",
        "    for i in range(n-1, -1, -1):\n",
        "        x[i] = chop((Ab[i, -1] - np.dot(Ab[i, i+1:n], x[i+1:])) / Ab[i, i])\n",
        "\n",
        "    return x\n",
        "\n",
        "solution_chopped = naive_gaussian_elimination_chopped(A, b)\n",
        "\n",
        "print(\"Solution using Naive Gaussian Elimination with 4 Significant Digits (Chopping):\")\n",
        "print(f\"x = {solution_chopped[0]:.4f}\")\n",
        "print(f\"y = {solution_chopped[1]:.4f}\")\n",
        "print(f\"z = {solution_chopped[2]:.4f}\")\n",
        "\n",
        "print(\"\\nVerification:\")\n",
        "print(f\"Ax = {chop(np.dot(A, solution_chopped))}\")\n",
        "print(f\"b  = {b}\")"
      ]
    },
    {
      "cell_type": "markdown",
      "metadata": {
        "id": "w3aIvQMm8j1w"
      },
      "source": [
        "## 3. Determinant using Forward Elimination"
      ]
    },
    {
      "cell_type": "code",
      "execution_count": 4,
      "metadata": {
        "colab": {
          "base_uri": "https://localhost:8080/"
        },
        "id": "jpGO7e2I8j1w",
        "outputId": "e4e3a5df-192a-4712-9014-e35caf402c8c"
      },
      "outputs": [
        {
          "output_type": "stream",
          "name": "stdout",
          "text": [
            "Determinant of A using forward elimination: 33.0000\n",
            "Determinant of A using NumPy: 33.0000\n"
          ]
        }
      ],
      "source": [
        "def determinant_forward_elimination(A):\n",
        "    n = len(A)\n",
        "    det = 1.0\n",
        "\n",
        "    for i in range(n):\n",
        "        for j in range(i+1, n):\n",
        "            factor = A[j, i] / A[i, i]\n",
        "            A[j, :] -= factor * A[i, :]\n",
        "        det *= A[i, i]\n",
        "\n",
        "    return det\n",
        "\n",
        "A = np.array([[5, 1, 5], [6, 0, 9], [9, 2, 3]], dtype=float)\n",
        "\n",
        "det_A = determinant_forward_elimination(A.copy())\n",
        "print(f\"Determinant of A using forward elimination: {det_A:.4f}\")\n",
        "\n",
        "det_A_np = np.linalg.det(A)\n",
        "print(f\"Determinant of A using NumPy: {det_A_np:.4f}\")"
      ]
    },
    {
      "cell_type": "markdown",
      "metadata": {
        "id": "kNJUTWob8j1w"
      },
      "source": [
        "## 4. Determinant after Forward Elimination"
      ]
    },
    {
      "cell_type": "code",
      "execution_count": 5,
      "metadata": {
        "colab": {
          "base_uri": "https://localhost:8080/"
        },
        "id": "2rXoUX1h8j1w",
        "outputId": "f070c361-250a-497a-e819-ebbbe25304ba"
      },
      "outputs": [
        {
          "output_type": "stream",
          "name": "stdout",
          "text": [
            "Determinant of A: 128.8000\n"
          ]
        }
      ],
      "source": [
        "B = np.array([[1, 5, 2], [0, 18.4, 5.6], [0, 0, 7]], dtype=float)\n",
        "\n",
        "det_A = np.prod(np.diag(B))\n",
        "print(f\"Determinant of A: {det_A:.4f}\")"
      ]
    },
    {
      "cell_type": "markdown",
      "metadata": {
        "id": "nTPCaF2D8j1w"
      },
      "source": [
        "## 5. Gaussian Elimination with Partial Pivoting"
      ]
    },
    {
      "cell_type": "code",
      "execution_count": 6,
      "metadata": {
        "colab": {
          "base_uri": "https://localhost:8080/"
        },
        "id": "wNHUu4ZK8j1w",
        "outputId": "58e9188b-5794-4155-ad90-8bfb896be46c"
      },
      "outputs": [
        {
          "output_type": "stream",
          "name": "stdout",
          "text": [
            "Solution using Gaussian Elimination with Partial Pivoting:\n",
            "x = -26.0000\n",
            "y = 9.0000\n",
            "z = 4.0000\n",
            "\n",
            "Verification:\n",
            "Ax = [4. 5. 6.]\n",
            "b  = [4. 5. 6.]\n"
          ]
        }
      ],
      "source": [
        "def gaussian_elimination_partial_pivoting(A, b):\n",
        "    n = len(A)\n",
        "    Ab = np.column_stack((A, b))\n",
        "\n",
        "    for i in range(n):\n",
        "        max_element = abs(Ab[i, i])\n",
        "        max_row = i\n",
        "        for k in range(i + 1, n):\n",
        "            if abs(Ab[k, i]) > max_element:\n",
        "                max_element = abs(Ab[k, i])\n",
        "                max_row = k\n",
        "        Ab[i], Ab[max_row] = Ab[max_row], Ab[i].copy()\n",
        "\n",
        "        for j in range(i + 1, n):\n",
        "            factor = Ab[j, i] / Ab[i, i]\n",
        "            Ab[j, :] -= factor * Ab[i, :]\n",
        "\n",
        "    x = np.zeros(n)\n",
        "    for i in range(n - 1, -1, -1):\n",
        "        x[i] = (Ab[i, -1] - np.dot(Ab[i, i+1:n], x[i+1:])) / Ab[i, i]\n",
        "\n",
        "    return x\n",
        "\n",
        "A = np.array([[1, 2, 3], [2, 5, 3], [1, 0, 8]], dtype=float)\n",
        "b = np.array([4, 5, 6], dtype=float)\n",
        "\n",
        "solution_pp = gaussian_elimination_partial_pivoting(A, b)\n",
        "\n",
        "print(\"Solution using Gaussian Elimination with Partial Pivoting:\")\n",
        "print(f\"x = {solution_pp[0]:.4f}\")\n",
        "print(f\"y = {solution_pp[1]:.4f}\")\n",
        "print(f\"z = {solution_pp[2]:.4f}\")\n",
        "\n",
        "print(\"\\nVerification:\")\n",
        "print(f\"Ax = {np.dot(A, solution_pp)}\")\n",
        "print(f\"b  = {b}\")"
      ]
    },
    {
      "cell_type": "markdown",
      "metadata": {
        "id": "pAAwumeG8j1x"
      },
      "source": [
        "## 6. Gaussian Elimination with Partial Pivoting (4 Significant Digits, Chopping)"
      ]
    },
    {
      "cell_type": "code",
      "execution_count": 7,
      "metadata": {
        "colab": {
          "base_uri": "https://localhost:8080/"
        },
        "id": "smFb2H8r8j1x",
        "outputId": "0699ef3c-d6c5-4439-c65a-565baea994aa"
      },
      "outputs": [
        {
          "output_type": "stream",
          "name": "stdout",
          "text": [
            "Solution using Gaussian Elimination with Partial Pivoting (4 Significant Digits, Chopping):\n",
            "x = -26.0120\n",
            "y = 9.0039\n",
            "z = 4.0015\n",
            "\n",
            "Verification:\n",
            "Ax = [4.0002 5.     6.    ]\n",
            "b  = [4. 5. 6.]\n"
          ]
        }
      ],
      "source": [
        "def gaussian_elimination_partial_pivoting_chopped(A, b):\n",
        "    n = len(A)\n",
        "    Ab = np.column_stack((A, b))\n",
        "\n",
        "    for i in range(n):\n",
        "        max_element = abs(Ab[i, i])\n",
        "        max_row = i\n",
        "        for k in range(i + 1, n):\n",
        "            if abs(Ab[k, i]) > max_element:\n",
        "                max_element = abs(Ab[k, i])\n",
        "                max_row = k\n",
        "        Ab[i], Ab[max_row] = Ab[max_row], Ab[i].copy()\n",
        "\n",
        "        for j in range(i + 1, n):\n",
        "            factor = chop(Ab[j, i] / Ab[i, i])\n",
        "            Ab[j, :] = chop(Ab[j, :] - factor * Ab[i, :])\n",
        "\n",
        "    x = np.zeros(n)\n",
        "    for i in range(n - 1, -1, -1):\n",
        "        x[i] = chop((Ab[i, -1] - np.dot(Ab[i, i+1:n], x[i+1:])) / Ab[i, i])\n",
        "\n",
        "    return x\n",
        "\n",
        "solution_pp_chopped = gaussian_elimination_partial_pivoting_chopped(A, b)\n",
        "\n",
        "print(\"Solution using Gaussian Elimination with Partial Pivoting (4 Significant Digits, Chopping):\")\n",
        "print(f\"x = {solution_pp_chopped[0]:.4f}\")\n",
        "print(f\"y = {solution_pp_chopped[1]:.4f}\")\n",
        "print(f\"z = {solution_pp_chopped[2]:.4f}\")\n",
        "\n",
        "print(\"\\nVerification:\")\n",
        "print(f\"Ax = {chop(np.dot(A, solution_pp_chopped))}\")\n",
        "print(f\"b  = {b}\")"
      ]
    },
    {
      "cell_type": "code",
      "execution_count": 8,
      "metadata": {
        "colab": {
          "base_uri": "https://localhost:8080/"
        },
        "id": "a0xk5btx8j1x",
        "outputId": "f235b8b6-7553-4055-e7fd-637633888db9"
      },
      "outputs": [
        {
          "output_type": "stream",
          "name": "stdout",
          "text": [
            "Comparison of Results:\n",
            "Naive GE:                 [-26.   9.   4.]\n",
            "Naive GE (Chopped):       [-26.   9.   4.]\n",
            "GE with Partial Pivoting: [-26.   9.   4.]\n",
            "GE with PP (Chopped):     [-26.012    9.0039   4.0015]\n"
          ]
        }
      ],
      "source": [
        "print(\"Comparison of Results:\")\n",
        "print(f\"Naive GE:                 {solution}\")\n",
        "print(f\"Naive GE (Chopped):       {solution_chopped}\")\n",
        "print(f\"GE with Partial Pivoting: {solution_pp}\")\n",
        "print(f\"GE with PP (Chopped):     {solution_pp_chopped}\")"
      ]
    }
  ],
  "metadata": {
    "kernelspec": {
      "display_name": "Python 3",
      "language": "python",
      "name": "python3"
    },
    "language_info": {
      "codemirror_mode": {
        "name": "ipython",
        "version": 3
      },
      "file_extension": ".py",
      "mimetype": "text/x-python",
      "name": "python",
      "nbconvert_exporter": "python",
      "pygments_lexer": "ipython3",
      "version": "3.8.5"
    },
    "colab": {
      "provenance": []
    }
  },
  "nbformat": 4,
  "nbformat_minor": 0
}